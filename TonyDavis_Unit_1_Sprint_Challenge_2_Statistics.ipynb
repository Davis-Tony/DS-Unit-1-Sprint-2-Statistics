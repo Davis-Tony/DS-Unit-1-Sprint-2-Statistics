{
  "nbformat": 4,
  "nbformat_minor": 0,
  "metadata": {
    "colab": {
      "name": "TonyDavis_Unit_1_Sprint_Challenge_2_Statistics.ipynb",
      "provenance": [],
      "collapsed_sections": [],
      "include_colab_link": true
    },
    "kernelspec": {
      "name": "python3",
      "display_name": "Python 3"
    }
  },
  "cells": [
    {
      "cell_type": "markdown",
      "metadata": {
        "id": "view-in-github",
        "colab_type": "text"
      },
      "source": [
        "<a href=\"https://colab.research.google.com/github/Davis-Tony/DS-Unit-1-Sprint-2-Statistics/blob/master/TonyDavis_Unit_1_Sprint_Challenge_2_Statistics.ipynb\" target=\"_parent\"><img src=\"https://colab.research.google.com/assets/colab-badge.svg\" alt=\"Open In Colab\"/></a>"
      ]
    },
    {
      "cell_type": "markdown",
      "metadata": {
        "id": "NooAiTdnafkz",
        "colab_type": "text"
      },
      "source": [
        "# Data Science Unit 1 Sprint Challenge 2\n",
        "\n",
        "## Exploring Data, Testing Hypotheses\n",
        "\n",
        "In this sprint challenge you will look at a dataset of Echocardiograms\n",
        "\n",
        "<https://archive.ics.uci.edu/ml/datasets/Echocardiogram>\n",
        "\n",
        "Attribute Information:\n",
        "\n",
        "1. survival -- the number of months patient survived (has survived, if patient is still alive). Because all the patients had their heart attacks at different times, it is possible that some patients have survived less than one year but they are still alive. Check the second variable to confirm this. Such patients cannot be used for the prediction task mentioned above.\n",
        "2. still-alive -- a binary variable. 0=dead at end of survival period, 1 means still alive\n",
        "3. age-at-heart-attack -- age in years when heart attack occurred\n",
        "4. pericardial-effusion -- binary. Pericardial effusion is fluid around the heart. 0=no fluid, 1=fluid\n",
        "5. fractional-shortening -- a measure of contracility around the heart lower numbers are increasingly abnormal\n",
        "6. epss -- E-point septal separation, another measure of contractility. Larger numbers are increasingly abnormal.\n",
        "7. lvdd -- left ventricular end-diastolic dimension. This is a measure of the size of the heart at end-diastole. Large hearts tend to be sick hearts.\n",
        "8. wall-motion-score -- a measure of how the segments of the left ventricle are moving\n",
        "9. wall-motion-index -- equals wall-motion-score divided by number of segments seen. Usually 12-13 segments are seen in an echocardiogram. Use this variable INSTEAD of the wall motion score.\n",
        "10. mult -- a derivate var which can be ignored\n",
        "11. name -- the name of the patient (I have replaced them with \"name\")\n",
        "12. group -- meaningless, ignore it\n",
        "13. alive-at-1 -- Boolean-valued. Derived from the first two attributes. 0 means patient was either dead after 1 year or had been followed for less than 1 year. 1 means patient was alive at 1 year.\n",
        "\n",
        "Sprint challenges are evaluated based on satisfactory completion of each part. It is suggested you work through it in order, getting each aspect reasonably working, before trying to deeply explore, iterate, or refine any given step. Once you get to the end, if you want to go back and improve things, go for it!"
      ]
    },
    {
      "cell_type": "markdown",
      "metadata": {
        "id": "5wch6ksCbJtZ",
        "colab_type": "text"
      },
      "source": [
        "## Part 1 - Load and validate the data\n",
        "\n",
        "- Load the data as a `pandas` data frame.\n",
        "- Validate that it has the appropriate number of observations (you can check the raw file, and also read the dataset description from UCI).\n",
        "- UCI says there should be missing data - check, and if necessary change the data so pandas recognizes it as na\n",
        "- Make sure that the loaded features are of the types described above (continuous values should be treated as float), and correct as necessary\n",
        "\n",
        "This is review, but skills that you'll use at the start of any data exploration. Further, you may have to do some investigation to figure out which file to load from - that is part of the puzzle."
      ]
    },
    {
      "cell_type": "code",
      "metadata": {
        "id": "Q79xDLckzibS",
        "colab_type": "code",
        "colab": {
          "base_uri": "https://localhost:8080/",
          "height": 71
        },
        "outputId": "f1f371a7-106e-4f23-9ef3-6efe7b482ab9"
      },
      "source": [
        "#Usual imports\n",
        "import pandas as pd\n",
        "import numpy as np\n",
        "import seaborn as sns\n",
        "import matplotlib.pyplot as plt\n",
        "\n",
        "from sklearn import metrics\n",
        "from sklearn.model_selection import train_test_split\n",
        "from sklearn.ensemble import RandomForestClassifier\n"
      ],
      "execution_count": 3,
      "outputs": [
        {
          "output_type": "stream",
          "text": [
            "/usr/local/lib/python3.6/dist-packages/statsmodels/tools/_testing.py:19: FutureWarning: pandas.util.testing is deprecated. Use the functions in the public API at pandas.testing instead.\n",
            "  import pandas.util.testing as tm\n"
          ],
          "name": "stderr"
        }
      ]
    },
    {
      "cell_type": "code",
      "metadata": {
        "id": "pIiZEhJIo4W9",
        "colab_type": "code",
        "colab": {
          "base_uri": "https://localhost:8080/",
          "height": 241
        },
        "outputId": "811a845b-7c9d-4a46-fee8-9e5c14805240"
      },
      "source": [
        "#Establishing column names\n",
        "colnames=['survival', 'still_alive', 'age_at_heart_attack', 'pericardial_effusion', \n",
        "      'fractional_shortening', 'epps', 'lvdd', 'wall_motion_score', \n",
        "      'wall_motion_index', 'mult', 'name', 'group', 'alive_at_1']\n",
        "\n",
        "#Reading in dataset\n",
        "\n",
        "heart_attack = pd.read_csv('https://archive.ics.uci.edu/ml/machine-learning-databases/echocardiogram/echocardiogram.data', error_bad_lines=False)\n",
        "heart_attack.columns=colnames\n",
        "heart_attack.head()"
      ],
      "execution_count": 4,
      "outputs": [
        {
          "output_type": "stream",
          "text": [
            "b'Skipping line 50: expected 13 fields, saw 14\\n'\n"
          ],
          "name": "stderr"
        },
        {
          "output_type": "execute_result",
          "data": {
            "text/html": [
              "<div>\n",
              "<style scoped>\n",
              "    .dataframe tbody tr th:only-of-type {\n",
              "        vertical-align: middle;\n",
              "    }\n",
              "\n",
              "    .dataframe tbody tr th {\n",
              "        vertical-align: top;\n",
              "    }\n",
              "\n",
              "    .dataframe thead th {\n",
              "        text-align: right;\n",
              "    }\n",
              "</style>\n",
              "<table border=\"1\" class=\"dataframe\">\n",
              "  <thead>\n",
              "    <tr style=\"text-align: right;\">\n",
              "      <th></th>\n",
              "      <th>survival</th>\n",
              "      <th>still_alive</th>\n",
              "      <th>age_at_heart_attack</th>\n",
              "      <th>pericardial_effusion</th>\n",
              "      <th>fractional_shortening</th>\n",
              "      <th>epps</th>\n",
              "      <th>lvdd</th>\n",
              "      <th>wall_motion_score</th>\n",
              "      <th>wall_motion_index</th>\n",
              "      <th>mult</th>\n",
              "      <th>name</th>\n",
              "      <th>group</th>\n",
              "      <th>alive_at_1</th>\n",
              "    </tr>\n",
              "  </thead>\n",
              "  <tbody>\n",
              "    <tr>\n",
              "      <th>0</th>\n",
              "      <td>19</td>\n",
              "      <td>0</td>\n",
              "      <td>72</td>\n",
              "      <td>0</td>\n",
              "      <td>0.380</td>\n",
              "      <td>6</td>\n",
              "      <td>4.100</td>\n",
              "      <td>14</td>\n",
              "      <td>1.700</td>\n",
              "      <td>0.588</td>\n",
              "      <td>name</td>\n",
              "      <td>1</td>\n",
              "      <td>0</td>\n",
              "    </tr>\n",
              "    <tr>\n",
              "      <th>1</th>\n",
              "      <td>16</td>\n",
              "      <td>0</td>\n",
              "      <td>55</td>\n",
              "      <td>0</td>\n",
              "      <td>0.260</td>\n",
              "      <td>4</td>\n",
              "      <td>3.420</td>\n",
              "      <td>14</td>\n",
              "      <td>1</td>\n",
              "      <td>1</td>\n",
              "      <td>name</td>\n",
              "      <td>1</td>\n",
              "      <td>0</td>\n",
              "    </tr>\n",
              "    <tr>\n",
              "      <th>2</th>\n",
              "      <td>57</td>\n",
              "      <td>0</td>\n",
              "      <td>60</td>\n",
              "      <td>0</td>\n",
              "      <td>0.253</td>\n",
              "      <td>12.062</td>\n",
              "      <td>4.603</td>\n",
              "      <td>16</td>\n",
              "      <td>1.450</td>\n",
              "      <td>0.788</td>\n",
              "      <td>name</td>\n",
              "      <td>1</td>\n",
              "      <td>0</td>\n",
              "    </tr>\n",
              "    <tr>\n",
              "      <th>3</th>\n",
              "      <td>19</td>\n",
              "      <td>1</td>\n",
              "      <td>57</td>\n",
              "      <td>0</td>\n",
              "      <td>0.160</td>\n",
              "      <td>22</td>\n",
              "      <td>5.750</td>\n",
              "      <td>18</td>\n",
              "      <td>2.250</td>\n",
              "      <td>0.571</td>\n",
              "      <td>name</td>\n",
              "      <td>1</td>\n",
              "      <td>0</td>\n",
              "    </tr>\n",
              "    <tr>\n",
              "      <th>4</th>\n",
              "      <td>26</td>\n",
              "      <td>0</td>\n",
              "      <td>68</td>\n",
              "      <td>0</td>\n",
              "      <td>0.260</td>\n",
              "      <td>5</td>\n",
              "      <td>4.310</td>\n",
              "      <td>12</td>\n",
              "      <td>1</td>\n",
              "      <td>0.857</td>\n",
              "      <td>name</td>\n",
              "      <td>1</td>\n",
              "      <td>0</td>\n",
              "    </tr>\n",
              "  </tbody>\n",
              "</table>\n",
              "</div>"
            ],
            "text/plain": [
              "  survival  still_alive age_at_heart_attack  ...  name group alive_at_1\n",
              "0       19            0                  72  ...  name     1          0\n",
              "1       16            0                  55  ...  name     1          0\n",
              "2       57            0                  60  ...  name     1          0\n",
              "3       19            1                  57  ...  name     1          0\n",
              "4       26            0                  68  ...  name     1          0\n",
              "\n",
              "[5 rows x 13 columns]"
            ]
          },
          "metadata": {
            "tags": []
          },
          "execution_count": 4
        }
      ]
    },
    {
      "cell_type": "code",
      "metadata": {
        "id": "OUP_hQ_HrnrG",
        "colab_type": "code",
        "colab": {
          "base_uri": "https://localhost:8080/",
          "height": 34
        },
        "outputId": "e648ecee-d96a-4bd7-b8df-5bb1bfe8a6e8"
      },
      "source": [
        "#Checking shape\n",
        "heart_attack.shape"
      ],
      "execution_count": 5,
      "outputs": [
        {
          "output_type": "execute_result",
          "data": {
            "text/plain": [
              "(130, 13)"
            ]
          },
          "metadata": {
            "tags": []
          },
          "execution_count": 5
        }
      ]
    },
    {
      "cell_type": "code",
      "metadata": {
        "id": "58g7berIryYU",
        "colab_type": "code",
        "colab": {}
      },
      "source": [
        "#Changing missing data to nan\n",
        "\n",
        "heart_attack = heart_attack.replace('?', np.nan)"
      ],
      "execution_count": 6,
      "outputs": []
    },
    {
      "cell_type": "code",
      "metadata": {
        "id": "6hoX6Bsu2MUu",
        "colab_type": "code",
        "colab": {
          "base_uri": "https://localhost:8080/",
          "height": 697
        },
        "outputId": "69bff6de-6026-489f-e807-d07a0a8b9c7c"
      },
      "source": [
        "#Checking for nan\n",
        "heart_attack['age_at_heart_attack'].value_counts(dropna=False)"
      ],
      "execution_count": 7,
      "outputs": [
        {
          "output_type": "execute_result",
          "data": {
            "text/plain": [
              "62        10\n",
              "57         8\n",
              "61         8\n",
              "59         7\n",
              "64         7\n",
              "63         7\n",
              "54         6\n",
              "60         6\n",
              "66         5\n",
              "65         5\n",
              "NaN        5\n",
              "70         5\n",
              "55         5\n",
              "68         4\n",
              "73         4\n",
              "56         3\n",
              "69         3\n",
              "67         3\n",
              "78         3\n",
              "50         2\n",
              "52         2\n",
              "58         2\n",
              "79         2\n",
              "46         2\n",
              "72         2\n",
              "77         1\n",
              "47         1\n",
              "51         1\n",
              "85         1\n",
              "71         1\n",
              "75         1\n",
              "81         1\n",
              "35         1\n",
              "53         1\n",
              "62.529     1\n",
              "80         1\n",
              "48         1\n",
              "74         1\n",
              "86         1\n",
              "Name: age_at_heart_attack, dtype: int64"
            ]
          },
          "metadata": {
            "tags": []
          },
          "execution_count": 7
        }
      ]
    },
    {
      "cell_type": "code",
      "metadata": {
        "id": "Bu8SrGuQtUhK",
        "colab_type": "code",
        "colab": {}
      },
      "source": [
        "#Reassigning data types\n",
        "heart_attack['survival'] = heart_attack.survival.astype(float)\n",
        "heart_attack['still_alive'] = heart_attack.still_alive.astype(bool)\n",
        "heart_attack['age_at_heart_attack'] = heart_attack.age_at_heart_attack.astype(float)\n",
        "heart_attack['pericardial_effusion'] = heart_attack.pericardial_effusion.astype(float)\n",
        "heart_attack['fractional_shortening'] = heart_attack.fractional_shortening.astype(float)\n",
        "heart_attack['epps'] = heart_attack.epps.astype(float)\n",
        "heart_attack['lvdd'] = heart_attack.lvdd.astype(float)\n",
        "heart_attack['wall_motion_score'] = heart_attack.wall_motion_score.astype(float)\n",
        "heart_attack['wall_motion_index'] = heart_attack.wall_motion_index.astype(float)\n",
        "heart_attack['mult'] = heart_attack.mult.astype(float)\n",
        "heart_attack['alive_at_1'] = heart_attack.alive_at_1.astype(float)"
      ],
      "execution_count": 8,
      "outputs": []
    },
    {
      "cell_type": "code",
      "metadata": {
        "id": "wcI8Efsy3ayk",
        "colab_type": "code",
        "colab": {
          "base_uri": "https://localhost:8080/",
          "height": 255
        },
        "outputId": "13d62ea8-b6fd-4400-857d-a59076d30425"
      },
      "source": [
        "heart_attack.dtypes"
      ],
      "execution_count": 9,
      "outputs": [
        {
          "output_type": "execute_result",
          "data": {
            "text/plain": [
              "survival                 float64\n",
              "still_alive                 bool\n",
              "age_at_heart_attack      float64\n",
              "pericardial_effusion     float64\n",
              "fractional_shortening    float64\n",
              "epps                     float64\n",
              "lvdd                     float64\n",
              "wall_motion_score        float64\n",
              "wall_motion_index        float64\n",
              "mult                     float64\n",
              "name                      object\n",
              "group                     object\n",
              "alive_at_1               float64\n",
              "dtype: object"
            ]
          },
          "metadata": {
            "tags": []
          },
          "execution_count": 9
        }
      ]
    },
    {
      "cell_type": "markdown",
      "metadata": {
        "id": "G7rLytbrO38L",
        "colab_type": "text"
      },
      "source": [
        "## Part 2 - Exploring data, Testing hypotheses\n",
        "\n",
        "The only thing we really know about this data is that Alive-at-1 is the class label. Besides that, we have continuous features and categorical features.\n",
        "\n",
        "Explore the data: you can use whatever approach (tables, utility functions, visualizations) to get an impression of the distributions and relationships of the variables. In general, your goal is to understand how the features are different when grouped by the two class labels (`1` and `0`).\n",
        "\n",
        "For the continuous features, how are they different when split between the two class labels? Choose two features to run t-tests (again split by class label) - specifically, select one feature that is *extremely* different between the classes, and another feature that is notably less different (though perhaps still \"statistically significantly\" different). You may have to explore more than two features to do this.\n",
        "\n",
        "For the categorical features, explore by creating \"cross tabs\" (aka [contingency tables](https://en.wikipedia.org/wiki/Contingency_table)) between them and the class label, and apply the Chi-squared test to them. [pandas.crosstab](http://pandas.pydata.org/pandas-docs/stable/reference/api/pandas.crosstab.html) can create contingency tables, and [scipy.stats.chi2_contingency](https://docs.scipy.org/doc/scipy/reference/generated/scipy.stats.chi2_contingency.html) can calculate the Chi-squared statistic for them.\n",
        "\n",
        "There are also categorical features - as with the t-test, try to find one where the Chi-squared test returns an extreme result (rejecting the null that the data are independent), and one where it is less extreme.\n",
        "\n",
        "**NOTE** - \"less extreme\" just means smaller test statistic/larger p-value. Even the least extreme differences may be strongly statistically significant.\n",
        "\n",
        "Your *main* goal is the hypothesis tests, so don't spend too much time on the exploration/visualization piece. That is just a means to an end - use simple visualizations, such as boxplots or a scatter matrix (both built in to pandas), to get a feel for the overall distribution of the variables.\n",
        "\n",
        "This is challenging, so manage your time and aim for a baseline of at least running two t-tests and two Chi-squared tests before polishing. And don't forget to answer the questions in part 3, even if your results in this part aren't what you want them to be."
      ]
    },
    {
      "cell_type": "code",
      "metadata": {
        "id": "_nqcgc0yzm68",
        "colab_type": "code",
        "colab": {}
      },
      "source": [
        "# Next import\n",
        "from scipy.stats import ttest_ind"
      ],
      "execution_count": 10,
      "outputs": []
    },
    {
      "cell_type": "code",
      "metadata": {
        "id": "ZXQAqFfHmaby",
        "colab_type": "code",
        "colab": {}
      },
      "source": [
        "#Making two new dataframes\n",
        "alive = heart_attack['alive_at_1']\n",
        "peric = heart_attack['pericardial_effusion']"
      ],
      "execution_count": 11,
      "outputs": []
    },
    {
      "cell_type": "code",
      "metadata": {
        "id": "UmGdzDshnaEP",
        "colab_type": "code",
        "colab": {
          "base_uri": "https://localhost:8080/",
          "height": 34
        },
        "outputId": "0261a0b0-fd9a-415c-e3e1-5f28f1e5132e"
      },
      "source": [
        "#Running t-test to compare\n",
        "ttest_ind(alive, peric).pvalue"
      ],
      "execution_count": 12,
      "outputs": [
        {
          "output_type": "execute_result",
          "data": {
            "text/plain": [
              "nan"
            ]
          },
          "metadata": {
            "tags": []
          },
          "execution_count": 12
        }
      ]
    },
    {
      "cell_type": "code",
      "metadata": {
        "id": "6J9-7tMjnuYU",
        "colab_type": "code",
        "colab": {}
      },
      "source": [
        "#The pvalue here is very low, so more tests will have to be run to find a higher pvalue"
      ],
      "execution_count": 13,
      "outputs": []
    },
    {
      "cell_type": "code",
      "metadata": {
        "id": "lU047l40qr_Y",
        "colab_type": "code",
        "colab": {
          "base_uri": "https://localhost:8080/",
          "height": 34
        },
        "outputId": "466372c3-c25f-4dbb-8199-6cd0b2b0e27e"
      },
      "source": [
        "heart_attack.shape"
      ],
      "execution_count": 14,
      "outputs": [
        {
          "output_type": "execute_result",
          "data": {
            "text/plain": [
              "(130, 13)"
            ]
          },
          "metadata": {
            "tags": []
          },
          "execution_count": 14
        }
      ]
    },
    {
      "cell_type": "code",
      "metadata": {
        "id": "3dE2Z36dobeJ",
        "colab_type": "code",
        "colab": {
          "base_uri": "https://localhost:8080/",
          "height": 68
        },
        "outputId": "1ac3987f-9dfa-4440-9ea3-1b80c858251b"
      },
      "source": [
        "heart_attack['alive_at_1'].value_counts()"
      ],
      "execution_count": 15,
      "outputs": [
        {
          "output_type": "execute_result",
          "data": {
            "text/plain": [
              "0.0    49\n",
              "1.0    24\n",
              "Name: alive_at_1, dtype: int64"
            ]
          },
          "metadata": {
            "tags": []
          },
          "execution_count": 15
        }
      ]
    },
    {
      "cell_type": "code",
      "metadata": {
        "id": "_0HA3pPWrCyD",
        "colab_type": "code",
        "colab": {
          "base_uri": "https://localhost:8080/",
          "height": 224
        },
        "outputId": "4c9e0d6f-e6ab-44fc-afaa-49da3c9a7a15"
      },
      "source": [
        "heart_attack.head()"
      ],
      "execution_count": 16,
      "outputs": [
        {
          "output_type": "execute_result",
          "data": {
            "text/html": [
              "<div>\n",
              "<style scoped>\n",
              "    .dataframe tbody tr th:only-of-type {\n",
              "        vertical-align: middle;\n",
              "    }\n",
              "\n",
              "    .dataframe tbody tr th {\n",
              "        vertical-align: top;\n",
              "    }\n",
              "\n",
              "    .dataframe thead th {\n",
              "        text-align: right;\n",
              "    }\n",
              "</style>\n",
              "<table border=\"1\" class=\"dataframe\">\n",
              "  <thead>\n",
              "    <tr style=\"text-align: right;\">\n",
              "      <th></th>\n",
              "      <th>survival</th>\n",
              "      <th>still_alive</th>\n",
              "      <th>age_at_heart_attack</th>\n",
              "      <th>pericardial_effusion</th>\n",
              "      <th>fractional_shortening</th>\n",
              "      <th>epps</th>\n",
              "      <th>lvdd</th>\n",
              "      <th>wall_motion_score</th>\n",
              "      <th>wall_motion_index</th>\n",
              "      <th>mult</th>\n",
              "      <th>name</th>\n",
              "      <th>group</th>\n",
              "      <th>alive_at_1</th>\n",
              "    </tr>\n",
              "  </thead>\n",
              "  <tbody>\n",
              "    <tr>\n",
              "      <th>0</th>\n",
              "      <td>19.0</td>\n",
              "      <td>False</td>\n",
              "      <td>72.0</td>\n",
              "      <td>0.0</td>\n",
              "      <td>0.380</td>\n",
              "      <td>6.000</td>\n",
              "      <td>4.100</td>\n",
              "      <td>14.0</td>\n",
              "      <td>1.70</td>\n",
              "      <td>0.588</td>\n",
              "      <td>name</td>\n",
              "      <td>1</td>\n",
              "      <td>0.0</td>\n",
              "    </tr>\n",
              "    <tr>\n",
              "      <th>1</th>\n",
              "      <td>16.0</td>\n",
              "      <td>False</td>\n",
              "      <td>55.0</td>\n",
              "      <td>0.0</td>\n",
              "      <td>0.260</td>\n",
              "      <td>4.000</td>\n",
              "      <td>3.420</td>\n",
              "      <td>14.0</td>\n",
              "      <td>1.00</td>\n",
              "      <td>1.000</td>\n",
              "      <td>name</td>\n",
              "      <td>1</td>\n",
              "      <td>0.0</td>\n",
              "    </tr>\n",
              "    <tr>\n",
              "      <th>2</th>\n",
              "      <td>57.0</td>\n",
              "      <td>False</td>\n",
              "      <td>60.0</td>\n",
              "      <td>0.0</td>\n",
              "      <td>0.253</td>\n",
              "      <td>12.062</td>\n",
              "      <td>4.603</td>\n",
              "      <td>16.0</td>\n",
              "      <td>1.45</td>\n",
              "      <td>0.788</td>\n",
              "      <td>name</td>\n",
              "      <td>1</td>\n",
              "      <td>0.0</td>\n",
              "    </tr>\n",
              "    <tr>\n",
              "      <th>3</th>\n",
              "      <td>19.0</td>\n",
              "      <td>True</td>\n",
              "      <td>57.0</td>\n",
              "      <td>0.0</td>\n",
              "      <td>0.160</td>\n",
              "      <td>22.000</td>\n",
              "      <td>5.750</td>\n",
              "      <td>18.0</td>\n",
              "      <td>2.25</td>\n",
              "      <td>0.571</td>\n",
              "      <td>name</td>\n",
              "      <td>1</td>\n",
              "      <td>0.0</td>\n",
              "    </tr>\n",
              "    <tr>\n",
              "      <th>4</th>\n",
              "      <td>26.0</td>\n",
              "      <td>False</td>\n",
              "      <td>68.0</td>\n",
              "      <td>0.0</td>\n",
              "      <td>0.260</td>\n",
              "      <td>5.000</td>\n",
              "      <td>4.310</td>\n",
              "      <td>12.0</td>\n",
              "      <td>1.00</td>\n",
              "      <td>0.857</td>\n",
              "      <td>name</td>\n",
              "      <td>1</td>\n",
              "      <td>0.0</td>\n",
              "    </tr>\n",
              "  </tbody>\n",
              "</table>\n",
              "</div>"
            ],
            "text/plain": [
              "   survival  still_alive  age_at_heart_attack  ...  name  group  alive_at_1\n",
              "0      19.0        False                 72.0  ...  name      1         0.0\n",
              "1      16.0        False                 55.0  ...  name      1         0.0\n",
              "2      57.0        False                 60.0  ...  name      1         0.0\n",
              "3      19.0         True                 57.0  ...  name      1         0.0\n",
              "4      26.0        False                 68.0  ...  name      1         0.0\n",
              "\n",
              "[5 rows x 13 columns]"
            ]
          },
          "metadata": {
            "tags": []
          },
          "execution_count": 16
        }
      ]
    },
    {
      "cell_type": "code",
      "metadata": {
        "id": "sXNJLTjPrhg2",
        "colab_type": "code",
        "colab": {}
      },
      "source": [
        "alive = heart_attack[heart_attack['alive_at_1']==1.0]\n",
        "not_alive = heart_attack[heart_attack['alive_at_1']==0.0]"
      ],
      "execution_count": 17,
      "outputs": []
    },
    {
      "cell_type": "code",
      "metadata": {
        "id": "B55KJar1r0Kn",
        "colab_type": "code",
        "colab": {
          "base_uri": "https://localhost:8080/",
          "height": 68
        },
        "outputId": "9d5f90a3-d03c-4178-c1e3-570995a6d270"
      },
      "source": [
        "#Checking shapes\n",
        "print(alive.shape)\n",
        "print(not_alive.shape)\n",
        "print(heart_attack.shape)"
      ],
      "execution_count": 18,
      "outputs": [
        {
          "output_type": "stream",
          "text": [
            "(24, 13)\n",
            "(49, 13)\n",
            "(130, 13)\n"
          ],
          "name": "stdout"
        }
      ]
    },
    {
      "cell_type": "code",
      "metadata": {
        "id": "8Dh9m_WvsEwe",
        "colab_type": "code",
        "colab": {
          "base_uri": "https://localhost:8080/",
          "height": 85
        },
        "outputId": "24499e55-905c-4dec-9f33-18371a59c9c8"
      },
      "source": [
        "heart_attack['alive_at_1'].value_counts(dropna=False)"
      ],
      "execution_count": 19,
      "outputs": [
        {
          "output_type": "execute_result",
          "data": {
            "text/plain": [
              "NaN    57\n",
              "0.0    49\n",
              "1.0    24\n",
              "Name: alive_at_1, dtype: int64"
            ]
          },
          "metadata": {
            "tags": []
          },
          "execution_count": 19
        }
      ]
    },
    {
      "cell_type": "code",
      "metadata": {
        "id": "l7Yk4VSMtDYu",
        "colab_type": "code",
        "colab": {
          "base_uri": "https://localhost:8080/",
          "height": 51
        },
        "outputId": "7a49dda8-61d6-40fb-ea2f-e9a271d8c630"
      },
      "source": [
        "#Finding means\n",
        "print(alive['epps'].mean())\n",
        "print(not_alive['epps'].mean())"
      ],
      "execution_count": 20,
      "outputs": [
        {
          "output_type": "stream",
          "text": [
            "15.896809523809523\n",
            "11.073295454545457\n"
          ],
          "name": "stdout"
        }
      ]
    },
    {
      "cell_type": "code",
      "metadata": {
        "id": "SZktqaGXtR9H",
        "colab_type": "code",
        "colab": {
          "base_uri": "https://localhost:8080/",
          "height": 34
        },
        "outputId": "c0b1ad60-85b1-4c6d-9da6-5b5360151f8a"
      },
      "source": [
        "#Running new ttest\n",
        "ttest_ind(alive['epps'], not_alive['epps'], nan_policy='omit')"
      ],
      "execution_count": 21,
      "outputs": [
        {
          "output_type": "execute_result",
          "data": {
            "text/plain": [
              "Ttest_indResult(statistic=2.5956423931198893, pvalue=0.011733341247805758)"
            ]
          },
          "metadata": {
            "tags": []
          },
          "execution_count": 21
        }
      ]
    },
    {
      "cell_type": "code",
      "metadata": {
        "id": "IDd_IcMfupfp",
        "colab_type": "code",
        "colab": {}
      },
      "source": [
        "#Fail to reject the null hypothesis stating there is no difference between populations.. running test with different features\n"
      ],
      "execution_count": 22,
      "outputs": []
    },
    {
      "cell_type": "code",
      "metadata": {
        "id": "MjYdjjAbu7Bj",
        "colab_type": "code",
        "colab": {
          "base_uri": "https://localhost:8080/",
          "height": 51
        },
        "outputId": "cb2d462f-a680-44ed-d388-29c65d18e6bb"
      },
      "source": [
        "print(alive['wall_motion_index'].mean())\n",
        "print(not_alive['wall_motion_index'].mean())"
      ],
      "execution_count": 23,
      "outputs": [
        {
          "output_type": "stream",
          "text": [
            "1.7928260869565218\n",
            "1.2741224489795915\n"
          ],
          "name": "stdout"
        }
      ]
    },
    {
      "cell_type": "code",
      "metadata": {
        "id": "QJv-aisDvBas",
        "colab_type": "code",
        "colab": {
          "base_uri": "https://localhost:8080/",
          "height": 34
        },
        "outputId": "335e95e4-d925-4474-99c3-dbf191d65460"
      },
      "source": [
        "ttest_ind(alive['wall_motion_index'], not_alive['wall_motion_index'], nan_policy='omit')"
      ],
      "execution_count": 24,
      "outputs": [
        {
          "output_type": "execute_result",
          "data": {
            "text/plain": [
              "Ttest_indResult(statistic=5.179903670253829, pvalue=2.0410033301552332e-06)"
            ]
          },
          "metadata": {
            "tags": []
          },
          "execution_count": 24
        }
      ]
    },
    {
      "cell_type": "code",
      "metadata": {
        "id": "cGpxyx5RwROv",
        "colab_type": "code",
        "colab": {}
      },
      "source": [
        "#Preparing for chi-squares"
      ],
      "execution_count": 25,
      "outputs": []
    },
    {
      "cell_type": "code",
      "metadata": {
        "id": "6cjV66jTwU0-",
        "colab_type": "code",
        "colab": {
          "base_uri": "https://localhost:8080/",
          "height": 224
        },
        "outputId": "16472906-e4aa-4dee-c68c-241e54586023"
      },
      "source": [
        "heart_attack.head()"
      ],
      "execution_count": 26,
      "outputs": [
        {
          "output_type": "execute_result",
          "data": {
            "text/html": [
              "<div>\n",
              "<style scoped>\n",
              "    .dataframe tbody tr th:only-of-type {\n",
              "        vertical-align: middle;\n",
              "    }\n",
              "\n",
              "    .dataframe tbody tr th {\n",
              "        vertical-align: top;\n",
              "    }\n",
              "\n",
              "    .dataframe thead th {\n",
              "        text-align: right;\n",
              "    }\n",
              "</style>\n",
              "<table border=\"1\" class=\"dataframe\">\n",
              "  <thead>\n",
              "    <tr style=\"text-align: right;\">\n",
              "      <th></th>\n",
              "      <th>survival</th>\n",
              "      <th>still_alive</th>\n",
              "      <th>age_at_heart_attack</th>\n",
              "      <th>pericardial_effusion</th>\n",
              "      <th>fractional_shortening</th>\n",
              "      <th>epps</th>\n",
              "      <th>lvdd</th>\n",
              "      <th>wall_motion_score</th>\n",
              "      <th>wall_motion_index</th>\n",
              "      <th>mult</th>\n",
              "      <th>name</th>\n",
              "      <th>group</th>\n",
              "      <th>alive_at_1</th>\n",
              "    </tr>\n",
              "  </thead>\n",
              "  <tbody>\n",
              "    <tr>\n",
              "      <th>0</th>\n",
              "      <td>19.0</td>\n",
              "      <td>False</td>\n",
              "      <td>72.0</td>\n",
              "      <td>0.0</td>\n",
              "      <td>0.380</td>\n",
              "      <td>6.000</td>\n",
              "      <td>4.100</td>\n",
              "      <td>14.0</td>\n",
              "      <td>1.70</td>\n",
              "      <td>0.588</td>\n",
              "      <td>name</td>\n",
              "      <td>1</td>\n",
              "      <td>0.0</td>\n",
              "    </tr>\n",
              "    <tr>\n",
              "      <th>1</th>\n",
              "      <td>16.0</td>\n",
              "      <td>False</td>\n",
              "      <td>55.0</td>\n",
              "      <td>0.0</td>\n",
              "      <td>0.260</td>\n",
              "      <td>4.000</td>\n",
              "      <td>3.420</td>\n",
              "      <td>14.0</td>\n",
              "      <td>1.00</td>\n",
              "      <td>1.000</td>\n",
              "      <td>name</td>\n",
              "      <td>1</td>\n",
              "      <td>0.0</td>\n",
              "    </tr>\n",
              "    <tr>\n",
              "      <th>2</th>\n",
              "      <td>57.0</td>\n",
              "      <td>False</td>\n",
              "      <td>60.0</td>\n",
              "      <td>0.0</td>\n",
              "      <td>0.253</td>\n",
              "      <td>12.062</td>\n",
              "      <td>4.603</td>\n",
              "      <td>16.0</td>\n",
              "      <td>1.45</td>\n",
              "      <td>0.788</td>\n",
              "      <td>name</td>\n",
              "      <td>1</td>\n",
              "      <td>0.0</td>\n",
              "    </tr>\n",
              "    <tr>\n",
              "      <th>3</th>\n",
              "      <td>19.0</td>\n",
              "      <td>True</td>\n",
              "      <td>57.0</td>\n",
              "      <td>0.0</td>\n",
              "      <td>0.160</td>\n",
              "      <td>22.000</td>\n",
              "      <td>5.750</td>\n",
              "      <td>18.0</td>\n",
              "      <td>2.25</td>\n",
              "      <td>0.571</td>\n",
              "      <td>name</td>\n",
              "      <td>1</td>\n",
              "      <td>0.0</td>\n",
              "    </tr>\n",
              "    <tr>\n",
              "      <th>4</th>\n",
              "      <td>26.0</td>\n",
              "      <td>False</td>\n",
              "      <td>68.0</td>\n",
              "      <td>0.0</td>\n",
              "      <td>0.260</td>\n",
              "      <td>5.000</td>\n",
              "      <td>4.310</td>\n",
              "      <td>12.0</td>\n",
              "      <td>1.00</td>\n",
              "      <td>0.857</td>\n",
              "      <td>name</td>\n",
              "      <td>1</td>\n",
              "      <td>0.0</td>\n",
              "    </tr>\n",
              "  </tbody>\n",
              "</table>\n",
              "</div>"
            ],
            "text/plain": [
              "   survival  still_alive  age_at_heart_attack  ...  name  group  alive_at_1\n",
              "0      19.0        False                 72.0  ...  name      1         0.0\n",
              "1      16.0        False                 55.0  ...  name      1         0.0\n",
              "2      57.0        False                 60.0  ...  name      1         0.0\n",
              "3      19.0         True                 57.0  ...  name      1         0.0\n",
              "4      26.0        False                 68.0  ...  name      1         0.0\n",
              "\n",
              "[5 rows x 13 columns]"
            ]
          },
          "metadata": {
            "tags": []
          },
          "execution_count": 26
        }
      ]
    },
    {
      "cell_type": "code",
      "metadata": {
        "id": "4ev8m07qxIYO",
        "colab_type": "code",
        "colab": {
          "base_uri": "https://localhost:8080/",
          "height": 173
        },
        "outputId": "294e9eb5-1dd0-4a79-8142-2aa8b20d6ce5"
      },
      "source": [
        "heart_attack.describe(exclude='number')"
      ],
      "execution_count": 27,
      "outputs": [
        {
          "output_type": "execute_result",
          "data": {
            "text/html": [
              "<div>\n",
              "<style scoped>\n",
              "    .dataframe tbody tr th:only-of-type {\n",
              "        vertical-align: middle;\n",
              "    }\n",
              "\n",
              "    .dataframe tbody tr th {\n",
              "        vertical-align: top;\n",
              "    }\n",
              "\n",
              "    .dataframe thead th {\n",
              "        text-align: right;\n",
              "    }\n",
              "</style>\n",
              "<table border=\"1\" class=\"dataframe\">\n",
              "  <thead>\n",
              "    <tr style=\"text-align: right;\">\n",
              "      <th></th>\n",
              "      <th>still_alive</th>\n",
              "      <th>name</th>\n",
              "      <th>group</th>\n",
              "    </tr>\n",
              "  </thead>\n",
              "  <tbody>\n",
              "    <tr>\n",
              "      <th>count</th>\n",
              "      <td>130</td>\n",
              "      <td>130</td>\n",
              "      <td>108</td>\n",
              "    </tr>\n",
              "    <tr>\n",
              "      <th>unique</th>\n",
              "      <td>2</td>\n",
              "      <td>1</td>\n",
              "      <td>2</td>\n",
              "    </tr>\n",
              "    <tr>\n",
              "      <th>top</th>\n",
              "      <td>False</td>\n",
              "      <td>name</td>\n",
              "      <td>2</td>\n",
              "    </tr>\n",
              "    <tr>\n",
              "      <th>freq</th>\n",
              "      <td>87</td>\n",
              "      <td>130</td>\n",
              "      <td>85</td>\n",
              "    </tr>\n",
              "  </tbody>\n",
              "</table>\n",
              "</div>"
            ],
            "text/plain": [
              "       still_alive  name group\n",
              "count          130   130   108\n",
              "unique           2     1     2\n",
              "top          False  name     2\n",
              "freq            87   130    85"
            ]
          },
          "metadata": {
            "tags": []
          },
          "execution_count": 27
        }
      ]
    },
    {
      "cell_type": "code",
      "metadata": {
        "id": "AtYkyp7H1ajD",
        "colab_type": "code",
        "colab": {}
      },
      "source": [
        "#Importing for chi square\n",
        "import scipy.stats as stats"
      ],
      "execution_count": 28,
      "outputs": []
    },
    {
      "cell_type": "code",
      "metadata": {
        "id": "J5A0_Gss1lZv",
        "colab_type": "code",
        "colab": {
          "base_uri": "https://localhost:8080/",
          "height": 170
        },
        "outputId": "9e8e97c6-c4c0-4663-84b4-7dcd94002ba0"
      },
      "source": [
        "#Describing age_at_heart_attack\n",
        "heart_attack['age_at_heart_attack'].describe()"
      ],
      "execution_count": 29,
      "outputs": [
        {
          "output_type": "execute_result",
          "data": {
            "text/plain": [
              "count    125.000000\n",
              "mean      62.748232\n",
              "std        8.343096\n",
              "min       35.000000\n",
              "25%       57.000000\n",
              "50%       62.000000\n",
              "75%       67.000000\n",
              "max       86.000000\n",
              "Name: age_at_heart_attack, dtype: float64"
            ]
          },
          "metadata": {
            "tags": []
          },
          "execution_count": 29
        }
      ]
    },
    {
      "cell_type": "code",
      "metadata": {
        "id": "XDAZNRKP2sSt",
        "colab_type": "code",
        "colab": {
          "base_uri": "https://localhost:8080/",
          "height": 85
        },
        "outputId": "4816c757-281c-43de-ad55-659a1c70abb8"
      },
      "source": [
        "#Creating bins for age_at_heart_attack\n",
        "cut_points=[35, 52, 69, 86]\n",
        "heart_attack['age_cats'] = pd.cut(heart_attack['age_at_heart_attack'], cut_points, labels = ['lo', 'med', 'hi'])\n",
        "heart_attack['age_cats'].value_counts()"
      ],
      "execution_count": 30,
      "outputs": [
        {
          "output_type": "execute_result",
          "data": {
            "text/plain": [
              "med    91\n",
              "hi     24\n",
              "lo      9\n",
              "Name: age_cats, dtype: int64"
            ]
          },
          "metadata": {
            "tags": []
          },
          "execution_count": 30
        }
      ]
    },
    {
      "cell_type": "code",
      "metadata": {
        "id": "FcxJDUWQ4YSK",
        "colab_type": "code",
        "colab": {
          "base_uri": "https://localhost:8080/",
          "height": 142
        },
        "outputId": "f5a7c217-4f3a-4984-9b80-4877660585c6"
      },
      "source": [
        "#crosstab\n",
        "pd.crosstab(heart_attack['alive_at_1'], heart_attack['age_cats'], normalize='index')"
      ],
      "execution_count": 31,
      "outputs": [
        {
          "output_type": "execute_result",
          "data": {
            "text/html": [
              "<div>\n",
              "<style scoped>\n",
              "    .dataframe tbody tr th:only-of-type {\n",
              "        vertical-align: middle;\n",
              "    }\n",
              "\n",
              "    .dataframe tbody tr th {\n",
              "        vertical-align: top;\n",
              "    }\n",
              "\n",
              "    .dataframe thead th {\n",
              "        text-align: right;\n",
              "    }\n",
              "</style>\n",
              "<table border=\"1\" class=\"dataframe\">\n",
              "  <thead>\n",
              "    <tr style=\"text-align: right;\">\n",
              "      <th>age_cats</th>\n",
              "      <th>lo</th>\n",
              "      <th>med</th>\n",
              "      <th>hi</th>\n",
              "    </tr>\n",
              "    <tr>\n",
              "      <th>alive_at_1</th>\n",
              "      <th></th>\n",
              "      <th></th>\n",
              "      <th></th>\n",
              "    </tr>\n",
              "  </thead>\n",
              "  <tbody>\n",
              "    <tr>\n",
              "      <th>0.0</th>\n",
              "      <td>0.040816</td>\n",
              "      <td>0.714286</td>\n",
              "      <td>0.244898</td>\n",
              "    </tr>\n",
              "    <tr>\n",
              "      <th>1.0</th>\n",
              "      <td>0.000000</td>\n",
              "      <td>0.695652</td>\n",
              "      <td>0.304348</td>\n",
              "    </tr>\n",
              "  </tbody>\n",
              "</table>\n",
              "</div>"
            ],
            "text/plain": [
              "age_cats          lo       med        hi\n",
              "alive_at_1                              \n",
              "0.0         0.040816  0.714286  0.244898\n",
              "1.0         0.000000  0.695652  0.304348"
            ]
          },
          "metadata": {
            "tags": []
          },
          "execution_count": 31
        }
      ]
    },
    {
      "cell_type": "code",
      "metadata": {
        "id": "SHGWT0uD41lc",
        "colab_type": "code",
        "colab": {
          "base_uri": "https://localhost:8080/",
          "height": 286
        },
        "outputId": "163ddde8-4f2d-4922-f422-59c8dae86587"
      },
      "source": [
        "#Plotting xtab\n",
        "pd.crosstab(heart_attack['alive_at_1'], heart_attack['age_cats'], normalize='index').plot(kind='bar');"
      ],
      "execution_count": 32,
      "outputs": [
        {
          "output_type": "display_data",
          "data": {
            "image/png": "[encoded data removed]",
            "text/plain": [
              "<Figure size 432x288 with 1 Axes>"
            ]
          },
          "metadata": {
            "tags": [],
            "needs_background": "light"
          }
        }
      ]
    },
    {
      "cell_type": "code",
      "metadata": {
        "id": "-RXWBedf5EZG",
        "colab_type": "code",
        "colab": {
          "base_uri": "https://localhost:8080/",
          "height": 142
        },
        "outputId": "ae9c6319-a27c-4cfc-b88a-89e5f378d1b7"
      },
      "source": [
        "#Saving crosstab\n",
        "xtab = pd.crosstab(heart_attack['alive_at_1'], heart_attack['age_cats'], normalize='index')\n",
        "xtab"
      ],
      "execution_count": 34,
      "outputs": [
        {
          "output_type": "execute_result",
          "data": {
            "text/html": [
              "<div>\n",
              "<style scoped>\n",
              "    .dataframe tbody tr th:only-of-type {\n",
              "        vertical-align: middle;\n",
              "    }\n",
              "\n",
              "    .dataframe tbody tr th {\n",
              "        vertical-align: top;\n",
              "    }\n",
              "\n",
              "    .dataframe thead th {\n",
              "        text-align: right;\n",
              "    }\n",
              "</style>\n",
              "<table border=\"1\" class=\"dataframe\">\n",
              "  <thead>\n",
              "    <tr style=\"text-align: right;\">\n",
              "      <th>age_cats</th>\n",
              "      <th>lo</th>\n",
              "      <th>med</th>\n",
              "      <th>hi</th>\n",
              "    </tr>\n",
              "    <tr>\n",
              "      <th>alive_at_1</th>\n",
              "      <th></th>\n",
              "      <th></th>\n",
              "      <th></th>\n",
              "    </tr>\n",
              "  </thead>\n",
              "  <tbody>\n",
              "    <tr>\n",
              "      <th>0.0</th>\n",
              "      <td>0.040816</td>\n",
              "      <td>0.714286</td>\n",
              "      <td>0.244898</td>\n",
              "    </tr>\n",
              "    <tr>\n",
              "      <th>1.0</th>\n",
              "      <td>0.000000</td>\n",
              "      <td>0.695652</td>\n",
              "      <td>0.304348</td>\n",
              "    </tr>\n",
              "  </tbody>\n",
              "</table>\n",
              "</div>"
            ],
            "text/plain": [
              "age_cats          lo       med        hi\n",
              "alive_at_1                              \n",
              "0.0         0.040816  0.714286  0.244898\n",
              "1.0         0.000000  0.695652  0.304348"
            ]
          },
          "metadata": {
            "tags": []
          },
          "execution_count": 34
        }
      ]
    },
    {
      "cell_type": "code",
      "metadata": {
        "id": "xI8NB-T85SbO",
        "colab_type": "code",
        "colab": {
          "base_uri": "https://localhost:8080/",
          "height": 102
        },
        "outputId": "f44a51a8-ef95-47ad-f1e8-aaf4364bf853"
      },
      "source": [
        "#Running chi square\n",
        "stats.chi2_contingency(xtab)"
      ],
      "execution_count": 35,
      "outputs": [
        {
          "output_type": "execute_result",
          "data": {
            "text/plain": [
              "(0.047497384583632826,\n",
              " 0.976531088713681,\n",
              " 2,\n",
              " array([[0.02040816, 0.70496894, 0.27462289],\n",
              "        [0.02040816, 0.70496894, 0.27462289]]))"
            ]
          },
          "metadata": {
            "tags": []
          },
          "execution_count": 35
        }
      ]
    },
    {
      "cell_type": "code",
      "metadata": {
        "id": "5Z0mEW6E5bvM",
        "colab_type": "code",
        "colab": {}
      },
      "source": [
        "#The null hypothesis is rejected because the pvalue is 0.977"
      ],
      "execution_count": null,
      "outputs": []
    },
    {
      "cell_type": "markdown",
      "metadata": {
        "id": "ZM8JckA2bgnp",
        "colab_type": "text"
      },
      "source": [
        "## Part 3 - Analysis and Interpretation\n",
        "\n",
        "Now that you've looked at the data, answer the following questions:\n",
        "\n",
        "- Interpret and explain the two t-tests you ran - what do they tell you about the relationships between the continuous features you selected and the class labels?\n",
        "- Interpret and explain the two Chi-squared tests you ran - what do they tell you about the relationships between the categorical features you selected and the class labels?\n",
        "- What was the most challenging part of this sprint challenge?\n",
        "\n",
        "Answer with text, but feel free to intersperse example code/results or refer to it from earlier."
      ]
    },
    {
      "cell_type": "markdown",
      "metadata": {
        "id": "LIozLDNG2Uhu",
        "colab_type": "text"
      },
      "source": [
        "It seems there's no relationship between the continuous features and whether or not the patients were alive a year later."
      ]
    },
    {
      "cell_type": "markdown",
      "metadata": {
        "id": "pvs3_-sNWQv0",
        "colab_type": "text"
      },
      "source": [
        "## Part 4 - Bayesian vs Frequentist Statistics\n",
        "\n",
        "Using a minimum of 2-3 sentences, give an explanation of Bayesian and Frequentist statistics, and then compare and contrast these two approaches to statistical inference.\n",
        "\n"
      ]
    },
    {
      "cell_type": "markdown",
      "metadata": {
        "id": "h1oK1UaDWrI-",
        "colab_type": "text"
      },
      "source": [
        "Frequentist statistics is useful when viewing information from many iterations of an event, such as coin flips.\n",
        "\n",
        "Bayesian stats is useful when you have prior information to be used to help predict the outcome of an event."
      ]
    },
    {
      "cell_type": "markdown",
      "metadata": {
        "id": "XOequK5xpVz7",
        "colab_type": "text"
      },
      "source": [
        "# Stretch Goals: \n",
        "Do these to get a 3. These are not required in order to pass the Sprint Challenge.\n",
        "\n",
        "## Part 1: \n",
        "\n",
        "Make sure that all of your dataframe columns have the appropriate data types. *Hint:* If a column has the datatype of \"object\" even though it's made up of float or integer values, you can coerce it to act as a numeric column by using the `pd.to_numeric()` function. In order to get a 3 on this section make sure that your data exploration is particularly well commented, easy to follow, and thorough.\n",
        "\n",
        "## Part 2:\n",
        "\n",
        "Write functions that can calculate t-tests and chi^2 tests on all of the appropriate column combinations from the dataset. (Remember that certain tests require certain variable types.)\n",
        "\n",
        "## Part 3: \n",
        "\n",
        "Calculate and report confidence intervals on your most important mean estimates (choose at least two). Make some kind of a graphic or visualization to help us see visually how precise these estimates are.\n",
        "\n",
        "## Part 4:\n",
        "\n",
        "Give an extra awesome explanation of Bayesian vs Frequentist Statistics. Maybe use code or visualizations, or any other means necessary to show an above average grasp of these high level concepts."
      ]
    },
    {
      "cell_type": "code",
      "metadata": {
        "id": "NT37grnxqa05",
        "colab_type": "code",
        "colab": {}
      },
      "source": [
        "# You can work the stretch goals down here or back up in their regular sections\n",
        "# just make sure that they are labeled so that we can easily differentiate\n",
        "# your main work from the stretch goals."
      ],
      "execution_count": null,
      "outputs": []
    }
  ]
}